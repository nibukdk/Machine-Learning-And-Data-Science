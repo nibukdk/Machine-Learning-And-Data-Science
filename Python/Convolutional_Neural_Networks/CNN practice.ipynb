{
 "cells": [
  {
   "cell_type": "code",
   "execution_count": 1,
   "metadata": {},
   "outputs": [],
   "source": [
    "# import numpy as np\n",
    "# import pandas as pd\n",
    "# import seaborn as sns\n",
    "# import matplotlib.pyplot as plt \n",
    "\n",
    "\n",
    "# %matplotlib inline\n",
    "# sns.set_style('white')\n",
    "# plt.rcParams[\"patch.force_edgecolor\"] = True\n"
   ]
  },
  {
   "cell_type": "code",
   "execution_count": 13,
   "metadata": {},
   "outputs": [],
   "source": [
    "from keras.models import Sequential\n",
    "from keras.layers import Dense, Convolution2D, MaxPool2D, Flatten"
   ]
  },
  {
   "cell_type": "markdown",
   "metadata": {},
   "source": [
    "## Part 1"
   ]
  },
  {
   "cell_type": "code",
   "execution_count": 14,
   "metadata": {},
   "outputs": [],
   "source": [
    "#Initialize CNN \n",
    "classifier = Sequential()"
   ]
  },
  {
   "cell_type": "code",
   "execution_count": 15,
   "metadata": {},
   "outputs": [],
   "source": [
    "#Step:1.1 Convolution\n",
    "classifier.add(Convolution2D(filters=32, kernel_size=(3,3), input_shape=(64,64, 3), activation='relu'))\n",
    "#Step:1.1 Pooling \n",
    "classifier.add(MaxPool2D(pool_size=(2,2)))"
   ]
  },
  {
   "cell_type": "code",
   "execution_count": 16,
   "metadata": {},
   "outputs": [],
   "source": [
    "#Step:2.1 Add second Convolution\n",
    "classifier.add(Convolution2D(filters=32, kernel_size=(3,3), activation='relu'))\n",
    "#Step:2.2 Add another Pooling \n",
    "classifier.add(MaxPool2D(pool_size=(2,2)))"
   ]
  },
  {
   "cell_type": "code",
   "execution_count": 17,
   "metadata": {},
   "outputs": [],
   "source": [
    "#Step3: Flatten\n",
    "classifier.add(Flatten())"
   ]
  },
  {
   "cell_type": "code",
   "execution_count": 18,
   "metadata": {},
   "outputs": [],
   "source": [
    "#Step:4 Create Classic Ann or Full connection\n",
    "#Create Input Layer\n",
    "classifier.add(Dense(units=128,activation='relu'))\n",
    "#Add output layer\n",
    "classifier.add(Dense(units=1,activation='sigmoid'))"
   ]
  },
  {
   "cell_type": "code",
   "execution_count": 19,
   "metadata": {},
   "outputs": [],
   "source": [
    "#Compiling Cnn\n",
    "classifier.compile(optimizer='adam', loss='binary_crossentropy', metrics=['accuracy'])"
   ]
  },
  {
   "cell_type": "markdown",
   "metadata": {},
   "source": [
    "## Part 2"
   ]
  },
  {
   "cell_type": "code",
   "execution_count": 20,
   "metadata": {},
   "outputs": [],
   "source": [
    "from keras.preprocessing.image import ImageDataGenerator"
   ]
  },
  {
   "cell_type": "code",
   "execution_count": 21,
   "metadata": {},
   "outputs": [],
   "source": [
    "#Using Image Augmentation to prevent Overfit\n",
    "train_datagen = ImageDataGenerator(\n",
    "        rescale=1./255,\n",
    "        shear_range=0.2,\n",
    "        zoom_range=0.2,\n",
    "        horizontal_flip=True)\n",
    "\n",
    "test_datagen = ImageDataGenerator(rescale=1./255)\n",
    " "
   ]
  },
  {
   "cell_type": "code",
   "execution_count": 22,
   "metadata": {},
   "outputs": [
    {
     "name": "stdout",
     "output_type": "stream",
     "text": [
      "Found 8000 images belonging to 2 classes.\n",
      "Found 2000 images belonging to 2 classes.\n"
     ]
    }
   ],
   "source": [
    "\n",
    "train_set = train_datagen.flow_from_directory(\n",
    "        'dataset/training_set',\n",
    "        target_size=(64,64),\n",
    "        batch_size=32,\n",
    "        class_mode='binary')\n",
    "\n",
    "test_set = test_datagen.flow_from_directory(\n",
    "        'dataset/test_set',\n",
    "        target_size=(64, 64),\n",
    "        batch_size=32,\n",
    "        class_mode='binary')\n",
    "\n"
   ]
  },
  {
   "cell_type": "code",
   "execution_count": 23,
   "metadata": {},
   "outputs": [
    {
     "name": "stdout",
     "output_type": "stream",
     "text": [
      "Epoch 1/25\n",
      "250/250 [==============================] - 89s 355ms/step - loss: 0.6598 - acc: 0.5906 - val_loss: 0.6430 - val_acc: 0.6350\n",
      "Epoch 2/25\n",
      "250/250 [==============================] - 90s 359ms/step - loss: 0.6067 - acc: 0.6706 - val_loss: 0.5659 - val_acc: 0.7050\n",
      "Epoch 3/25\n",
      "250/250 [==============================] - 89s 355ms/step - loss: 0.5522 - acc: 0.7164 - val_loss: 0.5271 - val_acc: 0.7495\n",
      "Epoch 4/25\n",
      "250/250 [==============================] - 89s 356ms/step - loss: 0.5162 - acc: 0.7414 - val_loss: 0.5030 - val_acc: 0.7580\n",
      "Epoch 5/25\n",
      "250/250 [==============================] - 85s 339ms/step - loss: 0.4942 - acc: 0.7577 - val_loss: 0.5319 - val_acc: 0.7435\n",
      "Epoch 6/25\n",
      "250/250 [==============================] - 86s 345ms/step - loss: 0.4754 - acc: 0.7672 - val_loss: 0.5150 - val_acc: 0.7550\n",
      "Epoch 7/25\n",
      "250/250 [==============================] - 81s 326ms/step - loss: 0.4585 - acc: 0.7784 - val_loss: 0.5492 - val_acc: 0.7380\n",
      "Epoch 8/25\n",
      "250/250 [==============================] - 83s 330ms/step - loss: 0.4500 - acc: 0.7876 - val_loss: 0.5754 - val_acc: 0.7250\n",
      "Epoch 9/25\n",
      "250/250 [==============================] - 82s 329ms/step - loss: 0.4303 - acc: 0.7978 - val_loss: 0.4574 - val_acc: 0.7880\n",
      "Epoch 10/25\n",
      "250/250 [==============================] - 81s 323ms/step - loss: 0.4133 - acc: 0.8087 - val_loss: 0.4768 - val_acc: 0.7825\n",
      "Epoch 11/25\n",
      "250/250 [==============================] - 81s 325ms/step - loss: 0.4130 - acc: 0.8121 - val_loss: 0.4691 - val_acc: 0.7780\n",
      "Epoch 12/25\n",
      "250/250 [==============================] - 83s 334ms/step - loss: 0.3918 - acc: 0.8216 - val_loss: 0.4842 - val_acc: 0.7915\n",
      "Epoch 13/25\n",
      "250/250 [==============================] - 86s 345ms/step - loss: 0.3774 - acc: 0.8301 - val_loss: 0.4593 - val_acc: 0.7975\n",
      "Epoch 14/25\n",
      "250/250 [==============================] - 83s 333ms/step - loss: 0.3698 - acc: 0.8351 - val_loss: 0.4411 - val_acc: 0.8005\n",
      "Epoch 15/25\n",
      "250/250 [==============================] - 83s 334ms/step - loss: 0.3586 - acc: 0.8417 - val_loss: 0.4709 - val_acc: 0.7910\n",
      "Epoch 16/25\n",
      "250/250 [==============================] - 84s 337ms/step - loss: 0.3439 - acc: 0.8476 - val_loss: 0.4530 - val_acc: 0.8095\n",
      "Epoch 17/25\n",
      "250/250 [==============================] - 84s 336ms/step - loss: 0.3341 - acc: 0.8515 - val_loss: 0.4467 - val_acc: 0.7980\n",
      "Epoch 18/25\n",
      "250/250 [==============================] - 83s 331ms/step - loss: 0.3194 - acc: 0.8586 - val_loss: 0.4610 - val_acc: 0.8070\n",
      "Epoch 19/25\n",
      "250/250 [==============================] - 83s 334ms/step - loss: 0.3022 - acc: 0.8717 - val_loss: 0.4573 - val_acc: 0.8020\n",
      "Epoch 20/25\n",
      "250/250 [==============================] - 90s 360ms/step - loss: 0.2992 - acc: 0.8728 - val_loss: 0.4814 - val_acc: 0.7980\n",
      "Epoch 21/25\n",
      "250/250 [==============================] - 86s 345ms/step - loss: 0.2823 - acc: 0.8822 - val_loss: 0.4635 - val_acc: 0.7995\n",
      "Epoch 22/25\n",
      "250/250 [==============================] - 86s 345ms/step - loss: 0.2610 - acc: 0.8882 - val_loss: 0.5013 - val_acc: 0.8020\n",
      "Epoch 23/25\n",
      "250/250 [==============================] - 86s 343ms/step - loss: 0.2547 - acc: 0.8921 - val_loss: 0.4768 - val_acc: 0.8155\n",
      "Epoch 24/25\n",
      "250/250 [==============================] - 84s 337ms/step - loss: 0.2363 - acc: 0.9026 - val_loss: 0.4942 - val_acc: 0.8060\n",
      "Epoch 25/25\n",
      "250/250 [==============================] - 80s 320ms/step - loss: 0.2389 - acc: 0.8991 - val_loss: 0.5314 - val_acc: 0.7890\n"
     ]
    },
    {
     "data": {
      "text/plain": [
       "<keras.callbacks.History at 0x22fe6412e48>"
      ]
     },
     "execution_count": 23,
     "metadata": {},
     "output_type": "execute_result"
    }
   ],
   "source": [
    "classifier.fit_generator(\n",
    "        train_set,\n",
    "        steps_per_epoch=8000/32,\n",
    "        epochs=25,\n",
    "        validation_data=test_set,\n",
    "        validation_steps=2000/32)"
   ]
  }
 ],
 "metadata": {
  "kernelspec": {
   "display_name": "Python 3",
   "language": "python",
   "name": "python3"
  },
  "language_info": {
   "codemirror_mode": {
    "name": "ipython",
    "version": 3
   },
   "file_extension": ".py",
   "mimetype": "text/x-python",
   "name": "python",
   "nbconvert_exporter": "python",
   "pygments_lexer": "ipython3",
   "version": "3.6.7"
  }
 },
 "nbformat": 4,
 "nbformat_minor": 2
}
